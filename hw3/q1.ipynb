{
 "cells": [
  {
   "cell_type": "markdown",
   "id": "8cb32d8c-76a3-401a-89ba-027371fe4c99",
   "metadata": {},
   "source": [
    "# Question 1 Part (c)"
   ]
  },
  {
   "cell_type": "code",
   "execution_count": 95,
   "id": "8cfc2c6a-7b5d-42bd-ac5f-642349af6725",
   "metadata": {},
   "outputs": [],
   "source": [
    "import pandas as pd\n",
    "import numpy as np\n",
    "import matplotlib.pyplot as plt\n",
    "from tqdm import tqdm\n",
    "\n",
    "# pytorch imports\n",
    "import torch\n",
    "import torch.nn as nn\n",
    "import torch.optim as optim\n",
    "from torch.utils.data import DataLoader, TensorDataset, random_split\n",
    "\n",
    "\n",
    "# sklearn imports\n",
    "from sklearn.model_selection import train_test_split\n",
    "from sklearn.metrics import mean_squared_error\n",
    "from sklearn.linear_model import LinearRegression"
   ]
  },
  {
   "cell_type": "code",
   "execution_count": 10,
   "id": "e5c0a899-6cb0-491c-a164-bcd7f0bcdb45",
   "metadata": {},
   "outputs": [
    {
     "data": {
      "text/html": [
       "<div>\n",
       "<style scoped>\n",
       "    .dataframe tbody tr th:only-of-type {\n",
       "        vertical-align: middle;\n",
       "    }\n",
       "\n",
       "    .dataframe tbody tr th {\n",
       "        vertical-align: top;\n",
       "    }\n",
       "\n",
       "    .dataframe thead th {\n",
       "        text-align: right;\n",
       "    }\n",
       "</style>\n",
       "<table border=\"1\" class=\"dataframe\">\n",
       "  <thead>\n",
       "    <tr style=\"text-align: right;\">\n",
       "      <th></th>\n",
       "      <th>pickup_longitude</th>\n",
       "      <th>pickup_latitude</th>\n",
       "      <th>dropoff_longitude</th>\n",
       "      <th>dropoff_latitude</th>\n",
       "      <th>trip_duration</th>\n",
       "      <th>min_of_day</th>\n",
       "      <th>day_of_week</th>\n",
       "      <th>day_of_year</th>\n",
       "    </tr>\n",
       "  </thead>\n",
       "  <tbody>\n",
       "    <tr>\n",
       "      <th>187173</th>\n",
       "      <td>0.270744</td>\n",
       "      <td>1.425051</td>\n",
       "      <td>0.466831</td>\n",
       "      <td>0.776192</td>\n",
       "      <td>-0.007192</td>\n",
       "      <td>-0.942057</td>\n",
       "      <td>-1.047619</td>\n",
       "      <td>1.180855</td>\n",
       "    </tr>\n",
       "    <tr>\n",
       "      <th>179655</th>\n",
       "      <td>0.085681</td>\n",
       "      <td>0.306079</td>\n",
       "      <td>-0.226274</td>\n",
       "      <td>0.124111</td>\n",
       "      <td>0.370803</td>\n",
       "      <td>0.778703</td>\n",
       "      <td>-1.047619</td>\n",
       "      <td>-0.311290</td>\n",
       "    </tr>\n",
       "    <tr>\n",
       "      <th>120048</th>\n",
       "      <td>-0.555533</td>\n",
       "      <td>-0.934806</td>\n",
       "      <td>-0.022489</td>\n",
       "      <td>-0.548561</td>\n",
       "      <td>-0.434735</td>\n",
       "      <td>-1.183016</td>\n",
       "      <td>-1.047619</td>\n",
       "      <td>1.316504</td>\n",
       "    </tr>\n",
       "    <tr>\n",
       "      <th>62587</th>\n",
       "      <td>0.069718</td>\n",
       "      <td>0.035804</td>\n",
       "      <td>0.258900</td>\n",
       "      <td>0.317284</td>\n",
       "      <td>-0.811614</td>\n",
       "      <td>-0.908008</td>\n",
       "      <td>0.481657</td>\n",
       "      <td>0.018144</td>\n",
       "    </tr>\n",
       "    <tr>\n",
       "      <th>212063</th>\n",
       "      <td>-0.234482</td>\n",
       "      <td>0.074616</td>\n",
       "      <td>0.115836</td>\n",
       "      <td>0.258310</td>\n",
       "      <td>0.480548</td>\n",
       "      <td>1.066806</td>\n",
       "      <td>-0.537860</td>\n",
       "      <td>0.521985</td>\n",
       "    </tr>\n",
       "  </tbody>\n",
       "</table>\n",
       "</div>"
      ],
      "text/plain": [
       "        pickup_longitude  pickup_latitude  dropoff_longitude  \\\n",
       "187173          0.270744         1.425051           0.466831   \n",
       "179655          0.085681         0.306079          -0.226274   \n",
       "120048         -0.555533        -0.934806          -0.022489   \n",
       "62587           0.069718         0.035804           0.258900   \n",
       "212063         -0.234482         0.074616           0.115836   \n",
       "\n",
       "        dropoff_latitude  trip_duration  min_of_day  day_of_week  day_of_year  \n",
       "187173          0.776192      -0.007192   -0.942057    -1.047619     1.180855  \n",
       "179655          0.124111       0.370803    0.778703    -1.047619    -0.311290  \n",
       "120048         -0.548561      -0.434735   -1.183016    -1.047619     1.316504  \n",
       "62587           0.317284      -0.811614   -0.908008     0.481657     0.018144  \n",
       "212063          0.258310       0.480548    1.066806    -0.537860     0.521985  "
      ]
     },
     "execution_count": 10,
     "metadata": {},
     "output_type": "execute_result"
    }
   ],
   "source": [
    "# Import data into a pandas data frame\n",
    "taxi_trips_df = pd.read_parquet('taxi_trips.parquet')\n",
    "taxi_trips_df.head()"
   ]
  },
  {
   "cell_type": "code",
   "execution_count": 23,
   "id": "567b0dba-e515-4b9c-bb9a-4ee7d490a58c",
   "metadata": {},
   "outputs": [],
   "source": [
    "# Split into features and target\n",
    "# Assuming the 'trip_duration' is the target column and the other columns are features\n",
    "X = taxi_trips_df.drop('trip_duration', axis=1).values\n",
    "y = taxi_trips_df['trip_duration'].values.reshape(-1, 1)\n",
    "\n",
    "# Split into training, validation, and test sets (80:10:10 split to train:test:val)\n",
    "X_train, X_test, y_train, y_test = train_test_split(X, y, test_size=0.2, random_state=1)\n",
    "X_test, X_val, y_test, y_val  = train_test_split(X_test, y_test, test_size=0.5, random_state=1)"
   ]
  },
  {
   "cell_type": "code",
   "execution_count": 132,
   "id": "d4f321fd-f953-4cf1-a3cd-e5da8db59eab",
   "metadata": {},
   "outputs": [
    {
     "data": {
      "image/png": "[encoded data removed]",
      "text/plain": [
       "<Figure size 640x480 with 1 Axes>"
      ]
     },
     "metadata": {},
     "output_type": "display_data"
    }
   ],
   "source": [
    "# Plot a distribution of the trip durations\n",
    "taxi_trips_df['trip_duration'].hist(bins=50)\n",
    "plt.title('Distribution of trip duration for the taxi trips data')\n",
    "plt.xlabel('Trip Duration (s)')\n",
    "plt.ylabel('Count')\n",
    "plt.show()"
   ]
  },
  {
   "cell_type": "code",
   "execution_count": 133,
   "id": "75899220-6a5b-402e-b351-dede239d93d9",
   "metadata": {},
   "outputs": [],
   "source": [
    "# Convert to PyTorch tensors\n",
    "X_train_tensor = torch.FloatTensor(X_train)\n",
    "y_train_tensor = torch.FloatTensor(y_train)\n",
    "X_test_tensor = torch.FloatTensor(X_test)\n",
    "y_test_tensor = torch.FloatTensor(y_test)\n",
    "X_val_tensor = torch.FloatTensor(X_val)\n",
    "y_val_tensor = torch.FloatTensor(y_val)"
   ]
  },
  {
   "cell_type": "code",
   "execution_count": 115,
   "id": "1a621fa3-04b3-4cc0-9abf-fdb1e43761f0",
   "metadata": {},
   "outputs": [],
   "source": [
    "# Construct a MLP model class with 2 hidden layers\n",
    "class TaxiDurationPredictor(nn.Module):\n",
    "    def __init__(self, n_features, hidden_1_size, hidden_2_size, n_targets):\n",
    "        \"\"\"\n",
    "        arguments:\n",
    "        n_features: size of input\n",
    "        hidden_1_size: size of hidden layer 1\n",
    "        hidden_2_size: size of hidden layer 2\n",
    "        n_targets: size of output\n",
    "        \"\"\"\n",
    "        super(TaxiDurationPredictor, self).__init__()\n",
    "        self.layer1 = nn.Linear(n_features, hidden_1_size)\n",
    "        self.relu1 = nn.ReLU()\n",
    "        self.layer2 = nn.Linear(hidden_1_size, hidden_2_size)\n",
    "        self.relu2 = nn.ReLU()\n",
    "\n",
    "        # Mean Parameters\n",
    "        self.mean_layer = nn.linear\n",
    "\n",
    "        # Variance Parameters\n",
    "        self.final_layer = nn.Linear(hidden_2_size, n_targets)\n",
    "        self.softplus = nn.Softplus()  # Link function for variance\n",
    "\n",
    "    def forward(self, x):\n",
    "        x = self.layer1(x)\n",
    "        x = self.relu1(x)\n",
    "        x = self.layer2(x)\n",
    "        x = self.relu2(x)\n",
    "        # Convert to outputs\n",
    "        print(\"x\", len(x))\n",
    "        mean_output = self.final_layer(x)\n",
    "        variance_output = self.softplus(mean_output)\n",
    "        return mean_output, variance_output"
   ]
  },
  {
   "cell_type": "code",
   "execution_count": 137,
   "id": "0b40ea10-0ab2-43e9-8f05-8da432107322",
   "metadata": {},
   "outputs": [],
   "source": [
    "# Set the sizes for layers\n",
    "n_features = X_train_tensor.shape[1]\n",
    "hidden_1_size = 64\n",
    "hidden_2_size = 32\n",
    "n_targets = y_train_tensor.shape[1]\n",
    "\n",
    "# Define the model\n",
    "MLP = TaxiDurationPredictor(n_features, hidden_1_size, hidden_2_size, n_targets)\n",
    "# Set the Gaussian Negative Log Likelihood Loss\n",
    "criterion = nn.GaussianNLLLoss()\n",
    "optimizer = optim.Adam(MLP.parameters(), lr=1e-3)"
   ]
  },
  {
   "cell_type": "code",
   "execution_count": 138,
   "id": "1b63e375-e354-4ba3-ba4e-bf4334423e2b",
   "metadata": {},
   "outputs": [
    {
     "ename": "TypeError",
     "evalue": "cannot unpack non-iterable Normal object",
     "output_type": "error",
     "traceback": [
      "\u001b[0;31m---------------------------------------------------------------------------\u001b[0m",
      "\u001b[0;31mTypeError\u001b[0m                                 Traceback (most recent call last)",
      "Cell \u001b[0;32mIn[138], line 22\u001b[0m\n\u001b[1;32m     20\u001b[0m optimizer\u001b[38;5;241m.\u001b[39mzero_grad()\n\u001b[1;32m     21\u001b[0m \u001b[38;5;66;03m# Forward pass\u001b[39;00m\n\u001b[0;32m---> 22\u001b[0m mean_output, variance_output \u001b[38;5;241m=\u001b[39m MLP(batch_X)\n\u001b[1;32m     23\u001b[0m \u001b[38;5;66;03m# Compute the loss\u001b[39;00m\n\u001b[1;32m     24\u001b[0m loss \u001b[38;5;241m=\u001b[39m criterion(mean_output, batch_y, variance_output)\n",
      "\u001b[0;31mTypeError\u001b[0m: cannot unpack non-iterable Normal object"
     ]
    }
   ],
   "source": [
    "# Training with validation at each epoch\n",
    "num_epochs = 50\n",
    "batch_size = 64\n",
    "min_val_loss = np.inf\n",
    "\n",
    "train_dataset = TensorDataset(X_train_tensor, y_train_tensor)\n",
    "val_dataset = TensorDataset(X_val_tensor, y_val_tensor)\n",
    "\n",
    "# Use dataloader for minibatches and to reshuffle the data and every epoch to reduce overfitting\n",
    "train_loader = DataLoader(train_dataset, batch_size=batch_size, shuffle=True)\n",
    "val_loader = DataLoader(val_dataset, batch_size=batch_size, shuffle=True)\n",
    "\n",
    "\n",
    "for i in range(num_epochs):\n",
    "    # training\n",
    "    train_loss = 0\n",
    "    for batch_X, batch_y in train_loader:\n",
    "\n",
    "        # Clear gradients\n",
    "        optimizer.zero_grad()\n",
    "        # Forward pass\n",
    "        mean_output, variance_output = MLP(batch_X)\n",
    "        # Compute the loss\n",
    "        loss = criterion(mean_output, batch_y, variance_output)\n",
    "        # Back propagation\n",
    "        loss.backward()\n",
    "        # Update weights\n",
    "        optimizer.step()\n",
    "        # Update training loss\n",
    "        train_loss += loss.item()\n",
    "\n",
    "    # validation\n",
    "    val_loss = 0\n",
    "    MLP.eval()\n",
    "    for batch_X, batch_y in val_loader:\n",
    "        # Forward Pass\n",
    "        mean_output, variance_output = MLP(batch_X)\n",
    "        # Compute the loss\n",
    "        loss = criterion(mean_output, batch_y, variance_output)\n",
    "        # Update validation loss\n",
    "        val_loss += loss.item()\n",
    "\n",
    "    # Training / Validation at each epoch\n",
    "    print(f'Epoch {i+1}',\n",
    "    f'\\t\\t Training Loss: {(train_loss / len(train_loader)):.5f}', \n",
    "    f'\\t\\t Validation Loss: {(val_loss / len(val_loader)):.5f}')\n",
    "\n",
    "    # Save the model with the minimum validation loss\n",
    "    if val_loss < min_val_loss:\n",
    "        print(f'\\t Model Saved: Validation Loss Decreased({min_val_loss:.3f}-->{val_loss:.3f})')\n",
    "        min_val_loss = val_loss\n",
    "\n",
    "        # Save model state dictionary each time a new min val loss is reached\n",
    "        torch.save(MLP.state_dict(), 'saved_MLP.pth')\n",
    "    "
   ]
  },
  {
   "cell_type": "code",
   "execution_count": 118,
   "id": "b7d520cb-b621-48fc-b802-5dce38411b32",
   "metadata": {},
   "outputs": [
    {
     "name": "stdout",
     "output_type": "stream",
     "text": [
      "x 52355\n",
      "Test Loss: 0.06507249921560287\n"
     ]
    }
   ],
   "source": [
    "# Retrieve the model with the minimal validation loss\n",
    "my_MLP = TaxiDurationPredictor(n_features, hidden_1_size, hidden_2_size, n_targets)\n",
    "my_MLP.load_state_dict(torch.load('saved_MLP.pth'))\n",
    "my_MLP.eval()\n",
    "\n",
    "# Evaluate the model on the test set\n",
    "my_MLP.eval()\n",
    "with torch.no_grad():\n",
    "    test_mean, test_variance = my_MLP(X_test_tensor)\n",
    "    test_loss = criterion(test_mean, y_test_tensor, test_variance)\n",
    "    # test_MSE = nn.MSELoss(test_mean, y_test_tensor)\n",
    "print(f\"Test Loss: {test_loss.item()}\")\n",
    "# print(f\"Test Mean Squared Error: {test_MSE.item()}\")"
   ]
  },
  {
   "cell_type": "code",
   "execution_count": 119,
   "id": "7f249814-4894-4a88-a2cd-c2e75bc13d6c",
   "metadata": {},
   "outputs": [
    {
     "data": {
      "text/plain": [
       "torch.Size([52355, 1])"
      ]
     },
     "execution_count": 119,
     "metadata": {},
     "output_type": "execute_result"
    }
   ],
   "source": [
    "test_variance.shape"
   ]
  },
  {
   "cell_type": "code",
   "execution_count": 106,
   "id": "10caa311-7f14-4751-b424-f12d1dcd4978",
   "metadata": {},
   "outputs": [
    {
     "data": {
      "text/plain": [
       "torch.Size([52355, 1])"
      ]
     },
     "execution_count": 106,
     "metadata": {},
     "output_type": "execute_result"
    }
   ],
   "source": [
    "y_test_tensor.shape"
   ]
  },
  {
   "cell_type": "code",
   "execution_count": 111,
   "id": "f37224c0-935f-482b-a198-9ba2cbc33846",
   "metadata": {},
   "outputs": [
    {
     "name": "stdout",
     "output_type": "stream",
     "text": [
      "Baseline Mean Squared Error: 0.97746205\n"
     ]
    }
   ],
   "source": [
    "# Now compare the model to a simple baseline model\n",
    "\n",
    "# Use a linear regression model from sklearn\n",
    "baseline_model = LinearRegression()\n",
    "\n",
    "# Train the baseline model\n",
    "baseline_model.fit(X_train, y_train)\n",
    "\n",
    "# Predict using the baseline model\n",
    "baseline_predictions = baseline_model.predict(X_test)\n",
    "\n",
    "# Calculate the baseline mean squared error\n",
    "baseline_mse = mean_squared_error(y_test, baseline_predictions)\n",
    "print(\"Baseline Mean Squared Error:\", baseline_mse)"
   ]
  },
  {
   "cell_type": "markdown",
   "id": "9065b265-84b0-47b6-9827-e56955ab68bc",
   "metadata": {},
   "source": [
    "### MODEL 1: Random Forest Regressor"
   ]
  },
  {
   "cell_type": "markdown",
   "id": "12999f8d-a782-4f4a-b66e-7b4b14ea6426",
   "metadata": {},
   "source": [
    "### MODEL 2: MLP Regressor"
   ]
  },
  {
   "cell_type": "markdown",
   "id": "cb19100b-b86b-467d-bd8a-f816c7b7d1d3",
   "metadata": {},
   "source": [
    "It is apparent that with a large enough hyperparameter set (i.e. size of hyper parameter space > # points on validation set), then the risk on the training and the validation sets is low, however the test risk is comparatively higher."
   ]
  },
  {
   "cell_type": "markdown",
   "id": "b74b8f07-bb59-4941-91ec-18c4d419b14c",
   "metadata": {},
   "source": [
    "# Question 3 \n",
    "## Part (a)"
   ]
  },
  {
   "cell_type": "code",
   "execution_count": null,
   "id": "187053c7-9896-4443-9fd6-8e7ff3675610",
   "metadata": {},
   "outputs": [],
   "source": [
    "# Import data into a pandas data frame\n",
    "dset0_df = pd.read_csv('dset0.csv', header=None)\n",
    "dset0_df.head() # first few rows"
   ]
  },
  {
   "cell_type": "code",
   "execution_count": null,
   "id": "50c8fae2-eea6-4059-af9a-ff998ab28248",
   "metadata": {},
   "outputs": [],
   "source": [
    "# Split into training and test\n",
    "X = dset0_df.drop(columns = 0)\n",
    "y = dset0_df[0]\n",
    "\n",
    "X_train, X_test, y_train, y_test = train_test_split(X, y, test_size=0.5, random_state=2)"
   ]
  },
  {
   "cell_type": "code",
   "execution_count": null,
   "id": "bbe92f67-006c-4a9d-a848-313168876837",
   "metadata": {},
   "outputs": [],
   "source": [
    "# Fit models with varying numbers of trees and observe the scores\n",
    "n_trees = [1, 10, 100, 300, 1000]\n",
    "train_scores = []\n",
    "test_scores = []\n",
    "\n",
    "for n in n_trees:\n",
    "    clf = GradientBoostingClassifier(n_estimators = n, random_state=2)\n",
    "    clf.fit(X_train, y_train)\n",
    "    train_scores.append(clf.score(X_train, y_train))\n",
    "    test_scores.append(clf.score(X_test, y_test))"
   ]
  },
  {
   "cell_type": "code",
   "execution_count": null,
   "id": "0d570f01-4775-4f85-b277-cb5f0e31095f",
   "metadata": {},
   "outputs": [],
   "source": [
    "# Generalization behavior\n",
    "plt.plot(n_trees, train_scores, marker='o', label=\"train\")\n",
    "plt.plot(n_trees, test_scores, marker='o', label=\"test\")\n",
    "plt.title(\"Accuracy of gradient boosting model as a function of number of rounds of boosting\")\n",
    "plt.xlabel(\"#Trees\")\n",
    "plt.ylabel(\"Mean Accuracy\")\n",
    "plt.legend()\n",
    "plt.show()"
   ]
  },
  {
   "cell_type": "markdown",
   "id": "5c6f628b-0718-4dd3-9f7a-44df3abd18b0",
   "metadata": {},
   "source": [
    "It seems that these models generalize well, with this particular dataset, as the test accuracy is increasing / levels off with further rounds of boosting."
   ]
  },
  {
   "cell_type": "markdown",
   "id": "f3d56bac-1599-4efa-830d-c5c7cc534e1f",
   "metadata": {},
   "source": [
    "## Part (b)"
   ]
  },
  {
   "cell_type": "code",
   "execution_count": null,
   "id": "bd939174-73f4-4704-9ddf-977be4566482",
   "metadata": {},
   "outputs": [],
   "source": [
    "# Import data into a pandas data frame\n",
    "dset1_df = pd.read_csv('dset1.csv', header=None)\n",
    "dset1_df.head() # first few rows"
   ]
  },
  {
   "cell_type": "code",
   "execution_count": null,
   "id": "00009de6-fb3b-47c2-9cb2-4eea8405e220",
   "metadata": {},
   "outputs": [],
   "source": [
    "# Split into training and test\n",
    "X = dset1_df.drop(columns = 0)\n",
    "y = dset1_df[0]\n",
    "\n",
    "X_train, X_test, y_train, y_test = train_test_split(X, y, test_size=0.5, random_state=2)"
   ]
  },
  {
   "cell_type": "code",
   "execution_count": null,
   "id": "5de9862d-91d6-4e98-bba5-992f8b500d15",
   "metadata": {},
   "outputs": [],
   "source": [
    "# Fit models with varying numbers of trees and observe the scores\n",
    "n_trees = [1, 10, 100, 300, 1000]\n",
    "train_scores = []\n",
    "test_scores = []\n",
    "\n",
    "for n in n_trees:\n",
    "    clf = GradientBoostingClassifier(n_estimators = n, random_state=2)\n",
    "    clf.fit(X_train, y_train)\n",
    "    train_scores.append(clf.score(X_train, y_train))\n",
    "    test_scores.append(clf.score(X_test, y_test))"
   ]
  },
  {
   "cell_type": "code",
   "execution_count": null,
   "id": "2bb17e16-f975-460d-ac60-a25ceb4369d5",
   "metadata": {},
   "outputs": [],
   "source": [
    "# Generalization behavior\n",
    "plt.plot(n_trees, train_scores, marker='o', label=\"train\")\n",
    "plt.plot(n_trees, test_scores, marker='o', label=\"test\")\n",
    "plt.title(\"Accuracy of gradient boosting model as a function of number of rounds of boosting\")\n",
    "plt.xlabel(\"#Trees\")\n",
    "plt.ylabel(\"Mean Accuracy\")\n",
    "plt.legend()\n",
    "plt.show()"
   ]
  },
  {
   "cell_type": "markdown",
   "id": "c891f124-ec32-455b-9552-00cc6ef683c1",
   "metadata": {},
   "source": [
    "It seems that these models do not generalize well with the second dataset dataset as compared to the first one, as the test accuracy is not strictly increasing, but actually decreases with further rounds of boosting."
   ]
  },
  {
   "cell_type": "markdown",
   "id": "1b8a0c28-8885-46d0-b935-e9b2c1554d9d",
   "metadata": {},
   "source": [
    "## Part (c)"
   ]
  },
  {
   "cell_type": "markdown",
   "id": "72a33938-ed1a-469d-9196-5b1ed309568c",
   "metadata": {},
   "source": [
    "In part a) we observe that the test accuracy keeps increasing as we increase the number of rounds of boosting,\n",
    "however in part b) the test accuracy actually decreases with further rounds of boosting (as noticed from n=300 to n=1000).\n",
    "\n",
    "Overfitting could be occuring in the second dataset when we use very flexible models.  \n",
    "As discussed in class, this may be because the second dataset has a small margin, and therefore might not generalize well."
   ]
  },
  {
   "cell_type": "code",
   "execution_count": null,
   "id": "bc04e5f5-49cc-4031-aefe-df2b7b303174",
   "metadata": {},
   "outputs": [],
   "source": []
  }
 ],
 "metadata": {
  "kernelspec": {
   "display_name": "Python 3 (ipykernel)",
   "language": "python",
   "name": "python3"
  },
  "language_info": {
   "codemirror_mode": {
    "name": "ipython",
    "version": 3
   },
   "file_extension": ".py",
   "mimetype": "text/x-python",
   "name": "python",
   "nbconvert_exporter": "python",
   "pygments_lexer": "ipython3",
   "version": "3.11.4"
  }
 },
 "nbformat": 4,
 "nbformat_minor": 5
}

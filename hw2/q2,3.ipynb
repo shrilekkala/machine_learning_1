{
 "cells": [
  {
   "cell_type": "markdown",
   "id": "8cb32d8c-76a3-401a-89ba-027371fe4c99",
   "metadata": {},
   "source": [
    "# Question 2 Part (c)"
   ]
  },
  {
   "cell_type": "code",
   "execution_count": 1,
   "id": "8cfc2c6a-7b5d-42bd-ac5f-642349af6725",
   "metadata": {},
   "outputs": [],
   "source": [
    "import pandas as pd\n",
    "import numpy as np\n",
    "import matplotlib.pyplot as plt\n",
    "\n",
    "# sklearn imports\n",
    "from sklearn.ensemble import RandomForestRegressor, GradientBoostingClassifier\n",
    "from sklearn.neural_network import MLPRegressor\n",
    "from sklearn.model_selection import train_test_split\n",
    "from sklearn import metrics\n",
    "from sklearn.model_selection import GridSearchCV, PredefinedSplit\n",
    "\n",
    "# surpress warnings\n",
    "from warnings import simplefilter\n",
    "from sklearn.exceptions import ConvergenceWarning\n",
    "simplefilter(\"ignore\", category=[ConvergenceWarning])"
   ]
  },
  {
   "cell_type": "code",
   "execution_count": 2,
   "id": "e5c0a899-6cb0-491c-a164-bcd7f0bcdb45",
   "metadata": {},
   "outputs": [
    {
     "data": {
      "text/html": [
       "<div>\n",
       "<style scoped>\n",
       "    .dataframe tbody tr th:only-of-type {\n",
       "        vertical-align: middle;\n",
       "    }\n",
       "\n",
       "    .dataframe tbody tr th {\n",
       "        vertical-align: top;\n",
       "    }\n",
       "\n",
       "    .dataframe thead th {\n",
       "        text-align: right;\n",
       "    }\n",
       "</style>\n",
       "<table border=\"1\" class=\"dataframe\">\n",
       "  <thead>\n",
       "    <tr style=\"text-align: right;\">\n",
       "      <th></th>\n",
       "      <th>fixed acidity</th>\n",
       "      <th>volatile acidity</th>\n",
       "      <th>citric acid</th>\n",
       "      <th>residual sugar</th>\n",
       "      <th>chlorides</th>\n",
       "      <th>free sulfur dioxide</th>\n",
       "      <th>total sulfur dioxide</th>\n",
       "      <th>density</th>\n",
       "      <th>pH</th>\n",
       "      <th>sulphates</th>\n",
       "      <th>alcohol</th>\n",
       "      <th>quality</th>\n",
       "    </tr>\n",
       "  </thead>\n",
       "  <tbody>\n",
       "    <tr>\n",
       "      <th>0</th>\n",
       "      <td>7.0</td>\n",
       "      <td>0.27</td>\n",
       "      <td>0.36</td>\n",
       "      <td>20.7</td>\n",
       "      <td>0.045</td>\n",
       "      <td>45.0</td>\n",
       "      <td>170.0</td>\n",
       "      <td>1.0010</td>\n",
       "      <td>3.00</td>\n",
       "      <td>0.45</td>\n",
       "      <td>8.8</td>\n",
       "      <td>6</td>\n",
       "    </tr>\n",
       "    <tr>\n",
       "      <th>1</th>\n",
       "      <td>6.3</td>\n",
       "      <td>0.30</td>\n",
       "      <td>0.34</td>\n",
       "      <td>1.6</td>\n",
       "      <td>0.049</td>\n",
       "      <td>14.0</td>\n",
       "      <td>132.0</td>\n",
       "      <td>0.9940</td>\n",
       "      <td>3.30</td>\n",
       "      <td>0.49</td>\n",
       "      <td>9.5</td>\n",
       "      <td>6</td>\n",
       "    </tr>\n",
       "    <tr>\n",
       "      <th>2</th>\n",
       "      <td>8.1</td>\n",
       "      <td>0.28</td>\n",
       "      <td>0.40</td>\n",
       "      <td>6.9</td>\n",
       "      <td>0.050</td>\n",
       "      <td>30.0</td>\n",
       "      <td>97.0</td>\n",
       "      <td>0.9951</td>\n",
       "      <td>3.26</td>\n",
       "      <td>0.44</td>\n",
       "      <td>10.1</td>\n",
       "      <td>6</td>\n",
       "    </tr>\n",
       "    <tr>\n",
       "      <th>3</th>\n",
       "      <td>7.2</td>\n",
       "      <td>0.23</td>\n",
       "      <td>0.32</td>\n",
       "      <td>8.5</td>\n",
       "      <td>0.058</td>\n",
       "      <td>47.0</td>\n",
       "      <td>186.0</td>\n",
       "      <td>0.9956</td>\n",
       "      <td>3.19</td>\n",
       "      <td>0.40</td>\n",
       "      <td>9.9</td>\n",
       "      <td>6</td>\n",
       "    </tr>\n",
       "    <tr>\n",
       "      <th>4</th>\n",
       "      <td>7.2</td>\n",
       "      <td>0.23</td>\n",
       "      <td>0.32</td>\n",
       "      <td>8.5</td>\n",
       "      <td>0.058</td>\n",
       "      <td>47.0</td>\n",
       "      <td>186.0</td>\n",
       "      <td>0.9956</td>\n",
       "      <td>3.19</td>\n",
       "      <td>0.40</td>\n",
       "      <td>9.9</td>\n",
       "      <td>6</td>\n",
       "    </tr>\n",
       "  </tbody>\n",
       "</table>\n",
       "</div>"
      ],
      "text/plain": [
       "   fixed acidity  volatile acidity  citric acid  residual sugar  chlorides  \\\n",
       "0            7.0              0.27         0.36            20.7      0.045   \n",
       "1            6.3              0.30         0.34             1.6      0.049   \n",
       "2            8.1              0.28         0.40             6.9      0.050   \n",
       "3            7.2              0.23         0.32             8.5      0.058   \n",
       "4            7.2              0.23         0.32             8.5      0.058   \n",
       "\n",
       "   free sulfur dioxide  total sulfur dioxide  density    pH  sulphates  \\\n",
       "0                 45.0                 170.0   1.0010  3.00       0.45   \n",
       "1                 14.0                 132.0   0.9940  3.30       0.49   \n",
       "2                 30.0                  97.0   0.9951  3.26       0.44   \n",
       "3                 47.0                 186.0   0.9956  3.19       0.40   \n",
       "4                 47.0                 186.0   0.9956  3.19       0.40   \n",
       "\n",
       "   alcohol  quality  \n",
       "0      8.8        6  \n",
       "1      9.5        6  \n",
       "2     10.1        6  \n",
       "3      9.9        6  \n",
       "4      9.9        6  "
      ]
     },
     "execution_count": 2,
     "metadata": {},
     "output_type": "execute_result"
    }
   ],
   "source": [
    "# Import data into a pandas data frame\n",
    "wine_df = pd.read_csv('winequality-white.csv', delimiter=';')\n",
    "wine_df.head() # first few rows"
   ]
  },
  {
   "cell_type": "code",
   "execution_count": 3,
   "id": "41633637-508f-4a2b-9dbe-a7a9e9107357",
   "metadata": {},
   "outputs": [],
   "source": [
    "# Split into training, validation, and test\n",
    "X = wine_df.drop(columns = 'quality')\n",
    "y = wine_df['quality']\n",
    "\n",
    "X_train, X_test, y_train, y_test = train_test_split(X, y, test_size=0.3)\n",
    "X_test, X_val, y_test, y_val = train_test_split(X_test, y_test, test_size=1/3)\n",
    "\n",
    "split_index = [-1]*len(X_train) + [0]*len(X_val)\n",
    "X_pds = np.concatenate((X_train, X_val), axis=0)\n",
    "y_pds = np.concatenate((y_train, y_val), axis=0)\n",
    "pds = PredefinedSplit(test_fold = split_index)"
   ]
  },
  {
   "cell_type": "markdown",
   "id": "9065b265-84b0-47b6-9827-e56955ab68bc",
   "metadata": {},
   "source": [
    "### MODEL 1: Random Forest Regressor"
   ]
  },
  {
   "cell_type": "code",
   "execution_count": 4,
   "id": "1c9e5df2-5b98-4edd-ba63-60fa05dcb984",
   "metadata": {},
   "outputs": [
    {
     "name": "stdout",
     "output_type": "stream",
     "text": [
      "Fitting 1 folds for each of 540 candidates, totalling 540 fits\n"
     ]
    },
    {
     "data": {
      "text/html": [
       "<style>#sk-container-id-1 {color: black;}#sk-container-id-1 pre{padding: 0;}#sk-container-id-1 div.sk-toggleable {background-color: white;}#sk-container-id-1 label.sk-toggleable__label {cursor: pointer;display: block;width: 100%;margin-bottom: 0;padding: 0.3em;box-sizing: border-box;text-align: center;}#sk-container-id-1 label.sk-toggleable__label-arrow:before {content: \"▸\";float: left;margin-right: 0.25em;color: #696969;}#sk-container-id-1 label.sk-toggleable__label-arrow:hover:before {color: black;}#sk-container-id-1 div.sk-estimator:hover label.sk-toggleable__label-arrow:before {color: black;}#sk-container-id-1 div.sk-toggleable__content {max-height: 0;max-width: 0;overflow: hidden;text-align: left;background-color: #f0f8ff;}#sk-container-id-1 div.sk-toggleable__content pre {margin: 0.2em;color: black;border-radius: 0.25em;background-color: #f0f8ff;}#sk-container-id-1 input.sk-toggleable__control:checked~div.sk-toggleable__content {max-height: 200px;max-width: 100%;overflow: auto;}#sk-container-id-1 input.sk-toggleable__control:checked~label.sk-toggleable__label-arrow:before {content: \"▾\";}#sk-container-id-1 div.sk-estimator input.sk-toggleable__control:checked~label.sk-toggleable__label {background-color: #d4ebff;}#sk-container-id-1 div.sk-label input.sk-toggleable__control:checked~label.sk-toggleable__label {background-color: #d4ebff;}#sk-container-id-1 input.sk-hidden--visually {border: 0;clip: rect(1px 1px 1px 1px);clip: rect(1px, 1px, 1px, 1px);height: 1px;margin: -1px;overflow: hidden;padding: 0;position: absolute;width: 1px;}#sk-container-id-1 div.sk-estimator {font-family: monospace;background-color: #f0f8ff;border: 1px dotted black;border-radius: 0.25em;box-sizing: border-box;margin-bottom: 0.5em;}#sk-container-id-1 div.sk-estimator:hover {background-color: #d4ebff;}#sk-container-id-1 div.sk-parallel-item::after {content: \"\";width: 100%;border-bottom: 1px solid gray;flex-grow: 1;}#sk-container-id-1 div.sk-label:hover label.sk-toggleable__label {background-color: #d4ebff;}#sk-container-id-1 div.sk-serial::before {content: \"\";position: absolute;border-left: 1px solid gray;box-sizing: border-box;top: 0;bottom: 0;left: 50%;z-index: 0;}#sk-container-id-1 div.sk-serial {display: flex;flex-direction: column;align-items: center;background-color: white;padding-right: 0.2em;padding-left: 0.2em;position: relative;}#sk-container-id-1 div.sk-item {position: relative;z-index: 1;}#sk-container-id-1 div.sk-parallel {display: flex;align-items: stretch;justify-content: center;background-color: white;position: relative;}#sk-container-id-1 div.sk-item::before, #sk-container-id-1 div.sk-parallel-item::before {content: \"\";position: absolute;border-left: 1px solid gray;box-sizing: border-box;top: 0;bottom: 0;left: 50%;z-index: -1;}#sk-container-id-1 div.sk-parallel-item {display: flex;flex-direction: column;z-index: 1;position: relative;background-color: white;}#sk-container-id-1 div.sk-parallel-item:first-child::after {align-self: flex-end;width: 50%;}#sk-container-id-1 div.sk-parallel-item:last-child::after {align-self: flex-start;width: 50%;}#sk-container-id-1 div.sk-parallel-item:only-child::after {width: 0;}#sk-container-id-1 div.sk-dashed-wrapped {border: 1px dashed gray;margin: 0 0.4em 0.5em 0.4em;box-sizing: border-box;padding-bottom: 0.4em;background-color: white;}#sk-container-id-1 div.sk-label label {font-family: monospace;font-weight: bold;display: inline-block;line-height: 1.2em;}#sk-container-id-1 div.sk-label-container {text-align: center;}#sk-container-id-1 div.sk-container {/* jupyter's `normalize.less` sets `[hidden] { display: none; }` but bootstrap.min.css set `[hidden] { display: none !important; }` so we also need the `!important` here to be able to override the default hidden behavior on the sphinx rendered scikit-learn.org. See: https://github.com/scikit-learn/scikit-learn/issues/21755 */display: inline-block !important;position: relative;}#sk-container-id-1 div.sk-text-repr-fallback {display: none;}</style><div id=\"sk-container-id-1\" class=\"sk-top-container\"><div class=\"sk-text-repr-fallback\"><pre>GridSearchCV(cv=PredefinedSplit(test_fold=array([-1, -1, ...,  0,  0])),\n",
       "             estimator=RandomForestRegressor(random_state=1024),\n",
       "             param_grid={&#x27;max_depth&#x27;: [None, 4, 8, 12, 16],\n",
       "                         &#x27;max_features&#x27;: [None, &#x27;sqrt&#x27;, &#x27;log2&#x27;],\n",
       "                         &#x27;min_samples_leaf&#x27;: [1, 2, 5, 10],\n",
       "                         &#x27;min_samples_split&#x27;: [2, 5, 10],\n",
       "                         &#x27;n_estimators&#x27;: [100, 200, 400]},\n",
       "             verbose=1)</pre><b>In a Jupyter environment, please rerun this cell to show the HTML representation or trust the notebook. <br />On GitHub, the HTML representation is unable to render, please try loading this page with nbviewer.org.</b></div><div class=\"sk-container\" hidden><div class=\"sk-item sk-dashed-wrapped\"><div class=\"sk-label-container\"><div class=\"sk-label sk-toggleable\"><input class=\"sk-toggleable__control sk-hidden--visually\" id=\"sk-estimator-id-1\" type=\"checkbox\" ><label for=\"sk-estimator-id-1\" class=\"sk-toggleable__label sk-toggleable__label-arrow\">GridSearchCV</label><div class=\"sk-toggleable__content\"><pre>GridSearchCV(cv=PredefinedSplit(test_fold=array([-1, -1, ...,  0,  0])),\n",
       "             estimator=RandomForestRegressor(random_state=1024),\n",
       "             param_grid={&#x27;max_depth&#x27;: [None, 4, 8, 12, 16],\n",
       "                         &#x27;max_features&#x27;: [None, &#x27;sqrt&#x27;, &#x27;log2&#x27;],\n",
       "                         &#x27;min_samples_leaf&#x27;: [1, 2, 5, 10],\n",
       "                         &#x27;min_samples_split&#x27;: [2, 5, 10],\n",
       "                         &#x27;n_estimators&#x27;: [100, 200, 400]},\n",
       "             verbose=1)</pre></div></div></div><div class=\"sk-parallel\"><div class=\"sk-parallel-item\"><div class=\"sk-item\"><div class=\"sk-label-container\"><div class=\"sk-label sk-toggleable\"><input class=\"sk-toggleable__control sk-hidden--visually\" id=\"sk-estimator-id-2\" type=\"checkbox\" ><label for=\"sk-estimator-id-2\" class=\"sk-toggleable__label sk-toggleable__label-arrow\">estimator: RandomForestRegressor</label><div class=\"sk-toggleable__content\"><pre>RandomForestRegressor(random_state=1024)</pre></div></div></div><div class=\"sk-serial\"><div class=\"sk-item\"><div class=\"sk-estimator sk-toggleable\"><input class=\"sk-toggleable__control sk-hidden--visually\" id=\"sk-estimator-id-3\" type=\"checkbox\" ><label for=\"sk-estimator-id-3\" class=\"sk-toggleable__label sk-toggleable__label-arrow\">RandomForestRegressor</label><div class=\"sk-toggleable__content\"><pre>RandomForestRegressor(random_state=1024)</pre></div></div></div></div></div></div></div></div></div></div>"
      ],
      "text/plain": [
       "GridSearchCV(cv=PredefinedSplit(test_fold=array([-1, -1, ...,  0,  0])),\n",
       "             estimator=RandomForestRegressor(random_state=1024),\n",
       "             param_grid={'max_depth': [None, 4, 8, 12, 16],\n",
       "                         'max_features': [None, 'sqrt', 'log2'],\n",
       "                         'min_samples_leaf': [1, 2, 5, 10],\n",
       "                         'min_samples_split': [2, 5, 10],\n",
       "                         'n_estimators': [100, 200, 400]},\n",
       "             verbose=1)"
      ]
     },
     "execution_count": 4,
     "metadata": {},
     "output_type": "execute_result"
    }
   ],
   "source": [
    "rf=RandomForestRegressor(random_state=1024)\n",
    "\n",
    "# Grid Search\n",
    "\n",
    "param_grid = { \n",
    "    'n_estimators': [100, 200, 400],\n",
    "    'max_features': [None, 'sqrt', 'log2'],\n",
    "    'max_depth' : [None, 4, 8, 12, 16],\n",
    "    'min_samples_split': [2, 5, 10],\n",
    "    'min_samples_leaf': [1, 2, 5, 10]\n",
    "}\n",
    "\n",
    "CV_rf = GridSearchCV(estimator=rf, cv=pds, param_grid=param_grid, verbose=1)\n",
    "CV_rf.fit(X_pds, y_pds)"
   ]
  },
  {
   "cell_type": "code",
   "execution_count": 5,
   "id": "b1996984-5de6-4873-9fcc-9493711d963b",
   "metadata": {},
   "outputs": [
    {
     "data": {
      "text/plain": [
       "{'max_depth': None,\n",
       " 'max_features': 'sqrt',\n",
       " 'min_samples_leaf': 1,\n",
       " 'min_samples_split': 5,\n",
       " 'n_estimators': 400}"
      ]
     },
     "execution_count": 5,
     "metadata": {},
     "output_type": "execute_result"
    }
   ],
   "source": [
    "CV_rf.best_params_"
   ]
  },
  {
   "cell_type": "code",
   "execution_count": 6,
   "id": "8b154dd6-7ad7-428b-bc9c-d4523d845a7c",
   "metadata": {},
   "outputs": [
    {
     "data": {
      "text/html": [
       "<style>#sk-container-id-2 {color: black;}#sk-container-id-2 pre{padding: 0;}#sk-container-id-2 div.sk-toggleable {background-color: white;}#sk-container-id-2 label.sk-toggleable__label {cursor: pointer;display: block;width: 100%;margin-bottom: 0;padding: 0.3em;box-sizing: border-box;text-align: center;}#sk-container-id-2 label.sk-toggleable__label-arrow:before {content: \"▸\";float: left;margin-right: 0.25em;color: #696969;}#sk-container-id-2 label.sk-toggleable__label-arrow:hover:before {color: black;}#sk-container-id-2 div.sk-estimator:hover label.sk-toggleable__label-arrow:before {color: black;}#sk-container-id-2 div.sk-toggleable__content {max-height: 0;max-width: 0;overflow: hidden;text-align: left;background-color: #f0f8ff;}#sk-container-id-2 div.sk-toggleable__content pre {margin: 0.2em;color: black;border-radius: 0.25em;background-color: #f0f8ff;}#sk-container-id-2 input.sk-toggleable__control:checked~div.sk-toggleable__content {max-height: 200px;max-width: 100%;overflow: auto;}#sk-container-id-2 input.sk-toggleable__control:checked~label.sk-toggleable__label-arrow:before {content: \"▾\";}#sk-container-id-2 div.sk-estimator input.sk-toggleable__control:checked~label.sk-toggleable__label {background-color: #d4ebff;}#sk-container-id-2 div.sk-label input.sk-toggleable__control:checked~label.sk-toggleable__label {background-color: #d4ebff;}#sk-container-id-2 input.sk-hidden--visually {border: 0;clip: rect(1px 1px 1px 1px);clip: rect(1px, 1px, 1px, 1px);height: 1px;margin: -1px;overflow: hidden;padding: 0;position: absolute;width: 1px;}#sk-container-id-2 div.sk-estimator {font-family: monospace;background-color: #f0f8ff;border: 1px dotted black;border-radius: 0.25em;box-sizing: border-box;margin-bottom: 0.5em;}#sk-container-id-2 div.sk-estimator:hover {background-color: #d4ebff;}#sk-container-id-2 div.sk-parallel-item::after {content: \"\";width: 100%;border-bottom: 1px solid gray;flex-grow: 1;}#sk-container-id-2 div.sk-label:hover label.sk-toggleable__label {background-color: #d4ebff;}#sk-container-id-2 div.sk-serial::before {content: \"\";position: absolute;border-left: 1px solid gray;box-sizing: border-box;top: 0;bottom: 0;left: 50%;z-index: 0;}#sk-container-id-2 div.sk-serial {display: flex;flex-direction: column;align-items: center;background-color: white;padding-right: 0.2em;padding-left: 0.2em;position: relative;}#sk-container-id-2 div.sk-item {position: relative;z-index: 1;}#sk-container-id-2 div.sk-parallel {display: flex;align-items: stretch;justify-content: center;background-color: white;position: relative;}#sk-container-id-2 div.sk-item::before, #sk-container-id-2 div.sk-parallel-item::before {content: \"\";position: absolute;border-left: 1px solid gray;box-sizing: border-box;top: 0;bottom: 0;left: 50%;z-index: -1;}#sk-container-id-2 div.sk-parallel-item {display: flex;flex-direction: column;z-index: 1;position: relative;background-color: white;}#sk-container-id-2 div.sk-parallel-item:first-child::after {align-self: flex-end;width: 50%;}#sk-container-id-2 div.sk-parallel-item:last-child::after {align-self: flex-start;width: 50%;}#sk-container-id-2 div.sk-parallel-item:only-child::after {width: 0;}#sk-container-id-2 div.sk-dashed-wrapped {border: 1px dashed gray;margin: 0 0.4em 0.5em 0.4em;box-sizing: border-box;padding-bottom: 0.4em;background-color: white;}#sk-container-id-2 div.sk-label label {font-family: monospace;font-weight: bold;display: inline-block;line-height: 1.2em;}#sk-container-id-2 div.sk-label-container {text-align: center;}#sk-container-id-2 div.sk-container {/* jupyter's `normalize.less` sets `[hidden] { display: none; }` but bootstrap.min.css set `[hidden] { display: none !important; }` so we also need the `!important` here to be able to override the default hidden behavior on the sphinx rendered scikit-learn.org. See: https://github.com/scikit-learn/scikit-learn/issues/21755 */display: inline-block !important;position: relative;}#sk-container-id-2 div.sk-text-repr-fallback {display: none;}</style><div id=\"sk-container-id-2\" class=\"sk-top-container\"><div class=\"sk-text-repr-fallback\"><pre>RandomForestRegressor(max_features=&#x27;sqrt&#x27;, min_samples_split=5,\n",
       "                      n_estimators=400)</pre><b>In a Jupyter environment, please rerun this cell to show the HTML representation or trust the notebook. <br />On GitHub, the HTML representation is unable to render, please try loading this page with nbviewer.org.</b></div><div class=\"sk-container\" hidden><div class=\"sk-item\"><div class=\"sk-estimator sk-toggleable\"><input class=\"sk-toggleable__control sk-hidden--visually\" id=\"sk-estimator-id-4\" type=\"checkbox\" checked><label for=\"sk-estimator-id-4\" class=\"sk-toggleable__label sk-toggleable__label-arrow\">RandomForestRegressor</label><div class=\"sk-toggleable__content\"><pre>RandomForestRegressor(max_features=&#x27;sqrt&#x27;, min_samples_split=5,\n",
       "                      n_estimators=400)</pre></div></div></div></div></div>"
      ],
      "text/plain": [
       "RandomForestRegressor(max_features='sqrt', min_samples_split=5,\n",
       "                      n_estimators=400)"
      ]
     },
     "execution_count": 6,
     "metadata": {},
     "output_type": "execute_result"
    }
   ],
   "source": [
    "# Fit the model on the train set using the best parameters\n",
    "rfr = RandomForestRegressor(n_estimators = 400, \n",
    "                            max_depth = None, \n",
    "                            max_features = 'sqrt',\n",
    "                            min_samples_leaf = 1,\n",
    "                            min_samples_split = 5,\n",
    "                            criterion = 'squared_error')\n",
    "rfr.fit(X_train, y_train)"
   ]
  },
  {
   "cell_type": "code",
   "execution_count": 7,
   "id": "2a321684-5464-4d2f-a07b-b253e132a196",
   "metadata": {},
   "outputs": [
    {
     "name": "stdout",
     "output_type": "stream",
     "text": [
      "Mean Squared Error (MSE): 0.4068020737501841\n",
      "Mean Absolute Percentage Error (MAPE): 0.08212016942107156\n"
     ]
    }
   ],
   "source": [
    "# Evaluate the model\n",
    "rfr_preds = rfr.predict(X_test)\n",
    "rfr_errors = abs(rfr_preds - y_test)\n",
    "\n",
    "\n",
    "def evaluate(model, X_test, y_test):\n",
    "    predictions = model.predict(X_test)\n",
    "    errors = abs(predictions - y_test)\n",
    "    mape = 100 * np.mean(errors / y_test)\n",
    "    accuracy = 100 - mape\n",
    "    print('Model Performance')\n",
    "    print('Average Error: {:0.4f} degrees.'.format(np.mean(errors)))\n",
    "    print('Accuracy = {:0.2f}%.'.format(accuracy))\n",
    "    \n",
    "    return accuracy\n",
    "\n",
    "print('Mean Squared Error (MSE):', metrics.mean_squared_error(y_test, rfr_preds))\n",
    "print('Mean Absolute Percentage Error (MAPE):', metrics.mean_absolute_percentage_error(y_test, rfr_preds))"
   ]
  },
  {
   "cell_type": "markdown",
   "id": "12999f8d-a782-4f4a-b66e-7b4b14ea6426",
   "metadata": {},
   "source": [
    "### MODEL 2: MLP Regressor"
   ]
  },
  {
   "cell_type": "code",
   "execution_count": null,
   "id": "5a7614fc-f7c2-4d3c-8d1b-b6a9c86bf5e6",
   "metadata": {},
   "outputs": [
    {
     "name": "stdout",
     "output_type": "stream",
     "text": [
      "Fitting 1 folds for each of 600 candidates, totalling 600 fits\n"
     ]
    }
   ],
   "source": [
    "nn=MLPRegressor(random_state=1024)\n",
    "\n",
    "# Grid Search\n",
    "param_grid = {\n",
    "    'hidden_layer_sizes': [(50,), (100,), (200,), (50, 50), (100, 100)],\n",
    "    'alpha': [0.0001, 0.001, 0.05],\n",
    "    'learning_rate': ['constant','adaptive'],\n",
    "    'max_iter': [200, 500, 1000, 2000, 4000],\n",
    "    'early_stopping': [False, True],\n",
    "    'shuffle': [False, True],\n",
    "}\n",
    "\n",
    "CV_nn = GridSearchCV(estimator=nn, cv=pds, param_grid=param_grid, verbose=1)\n",
    "CV_nn.fit(X_pds, y_pds)"
   ]
  },
  {
   "cell_type": "code",
   "execution_count": null,
   "id": "3c7f62f0-d8d3-4e3c-8316-efc957b9895e",
   "metadata": {},
   "outputs": [],
   "source": [
    "CV_nn.best_params_"
   ]
  },
  {
   "cell_type": "code",
   "execution_count": null,
   "id": "35e5d981-2d0e-4c95-b127-b70d076c7d90",
   "metadata": {},
   "outputs": [],
   "source": [
    "# Fit the model on the train set using the best parameters\n",
    "nn = MLPRegressor(alpha = 0.05,\n",
    "                  hidden_layer_sizes = (100,),\n",
    "                  learning_rate = 'constant',\n",
    "                  max_iter = 200,\n",
    "                  shuffle = True,\n",
    "                  early_stopping = True)\n",
    "nn.fit(X_train, y_train)"
   ]
  },
  {
   "cell_type": "code",
   "execution_count": null,
   "id": "dd30e962-e547-4626-b133-0ea3ec093691",
   "metadata": {},
   "outputs": [],
   "source": [
    "# Evaluate the model\n",
    "nn_preds = nn.predict(X_test)\n",
    "nn_trains = nn.predict(X_train)\n",
    "nn_errors = abs(nn_preds - y_test)\n",
    "\n",
    "print('Mean Squared Error (MSE):', metrics.mean_squared_error(y_test, nn_preds))\n",
    "print('Mean Absolute Percentage Error (MAPE):', metrics.mean_absolute_percentage_error(y_test, nn_preds))"
   ]
  },
  {
   "cell_type": "markdown",
   "id": "b6068ee8-ae23-461c-a992-d86a52390aff",
   "metadata": {},
   "source": [
    "### Exploring the relationship between the empirical risk on the validation set and on the test set."
   ]
  },
  {
   "cell_type": "code",
   "execution_count": null,
   "id": "1ec49013-2f71-4998-8c79-d54703ae5b7e",
   "metadata": {},
   "outputs": [],
   "source": [
    "print('For the Random Forest Regressor:')\n",
    "print('Test Set Mean Squared Error (MSE):', metrics.mean_squared_error(y_test, rfr_preds))\n",
    "print('Validation Set Mean Squared Error (MSE):', metrics.mean_squared_error(y_val, rfr.predict(X_val)))\n",
    "# print('Training Set Mean Squared Error (MSE):', metrics.mean_squared_error(y_train, nn.predict(X_train)))\n",
    "\n",
    "print('For the MLP Regressor:')\n",
    "print('Test Set Mean Squared Error (MSE):', metrics.mean_squared_error(y_test, nn_preds))\n",
    "print('Validation Set Mean Squared Error (MSE):', metrics.mean_squared_error(y_val, nn.predict(X_val)))\n",
    "# print('Training Set Mean Squared Error (MSE):', metrics.mean_squared_error(y_train, nn.predict(X_train)))"
   ]
  },
  {
   "cell_type": "markdown",
   "id": "cb19100b-b86b-467d-bd8a-f816c7b7d1d3",
   "metadata": {},
   "source": [
    "It is apparent that with a large enough hyperparameter set (i.e. size of hyper parameter space > # points on validation set), then the risk on the training and the validation sets is low, however the test risk is comparatively higher."
   ]
  },
  {
   "cell_type": "markdown",
   "id": "b74b8f07-bb59-4941-91ec-18c4d419b14c",
   "metadata": {},
   "source": [
    "# Question 3 \n",
    "## Part (a)"
   ]
  },
  {
   "cell_type": "code",
   "execution_count": null,
   "id": "187053c7-9896-4443-9fd6-8e7ff3675610",
   "metadata": {},
   "outputs": [],
   "source": [
    "# Import data into a pandas data frame\n",
    "dset0_df = pd.read_csv('dset0.csv', header=None)\n",
    "dset0_df.head() # first few rows"
   ]
  },
  {
   "cell_type": "code",
   "execution_count": null,
   "id": "50c8fae2-eea6-4059-af9a-ff998ab28248",
   "metadata": {},
   "outputs": [],
   "source": [
    "# Split into training and test\n",
    "X = dset0_df.drop(columns = 0)\n",
    "y = dset0_df[0]\n",
    "\n",
    "X_train, X_test, y_train, y_test = train_test_split(X, y, test_size=0.5, random_state=2)"
   ]
  },
  {
   "cell_type": "code",
   "execution_count": null,
   "id": "bbe92f67-006c-4a9d-a848-313168876837",
   "metadata": {},
   "outputs": [],
   "source": [
    "# Fit models with varying numbers of trees and observe the scores\n",
    "n_trees = [1, 10, 100, 300, 1000]\n",
    "train_scores = []\n",
    "test_scores = []\n",
    "\n",
    "for n in n_trees:\n",
    "    clf = GradientBoostingClassifier(n_estimators = n, random_state=2)\n",
    "    clf.fit(X_train, y_train)\n",
    "    train_scores.append(clf.score(X_train, y_train))\n",
    "    test_scores.append(clf.score(X_test, y_test))"
   ]
  },
  {
   "cell_type": "code",
   "execution_count": null,
   "id": "0d570f01-4775-4f85-b277-cb5f0e31095f",
   "metadata": {},
   "outputs": [],
   "source": [
    "# Generalization behavior\n",
    "plt.plot(n_trees, train_scores, marker='o', label=\"train\")\n",
    "plt.plot(n_trees, test_scores, marker='o', label=\"test\")\n",
    "plt.title(\"Accuracy of gradient boosting model as a function of number of rounds of boosting\")\n",
    "plt.xlabel(\"#Trees\")\n",
    "plt.ylabel(\"Mean Accuracy\")\n",
    "plt.legend()\n",
    "plt.show()"
   ]
  },
  {
   "cell_type": "markdown",
   "id": "5c6f628b-0718-4dd3-9f7a-44df3abd18b0",
   "metadata": {},
   "source": [
    "It seems that these models generalize well, with this particular dataset, as the test accuracy is increasing / levels off with further rounds of boosting."
   ]
  },
  {
   "cell_type": "markdown",
   "id": "f3d56bac-1599-4efa-830d-c5c7cc534e1f",
   "metadata": {},
   "source": [
    "## Part (b)"
   ]
  },
  {
   "cell_type": "code",
   "execution_count": null,
   "id": "bd939174-73f4-4704-9ddf-977be4566482",
   "metadata": {},
   "outputs": [],
   "source": [
    "# Import data into a pandas data frame\n",
    "dset1_df = pd.read_csv('dset1.csv', header=None)\n",
    "dset1_df.head() # first few rows"
   ]
  },
  {
   "cell_type": "code",
   "execution_count": null,
   "id": "00009de6-fb3b-47c2-9cb2-4eea8405e220",
   "metadata": {},
   "outputs": [],
   "source": [
    "# Split into training and test\n",
    "X = dset1_df.drop(columns = 0)\n",
    "y = dset1_df[0]\n",
    "\n",
    "X_train, X_test, y_train, y_test = train_test_split(X, y, test_size=0.5, random_state=2)"
   ]
  },
  {
   "cell_type": "code",
   "execution_count": null,
   "id": "5de9862d-91d6-4e98-bba5-992f8b500d15",
   "metadata": {},
   "outputs": [],
   "source": [
    "# Fit models with varying numbers of trees and observe the scores\n",
    "n_trees = [1, 10, 100, 300, 1000]\n",
    "train_scores = []\n",
    "test_scores = []\n",
    "\n",
    "for n in n_trees:\n",
    "    clf = GradientBoostingClassifier(n_estimators = n, random_state=2)\n",
    "    clf.fit(X_train, y_train)\n",
    "    train_scores.append(clf.score(X_train, y_train))\n",
    "    test_scores.append(clf.score(X_test, y_test))"
   ]
  },
  {
   "cell_type": "code",
   "execution_count": null,
   "id": "2bb17e16-f975-460d-ac60-a25ceb4369d5",
   "metadata": {},
   "outputs": [],
   "source": [
    "# Generalization behavior\n",
    "plt.plot(n_trees, train_scores, marker='o', label=\"train\")\n",
    "plt.plot(n_trees, test_scores, marker='o', label=\"test\")\n",
    "plt.title(\"Accuracy of gradient boosting model as a function of number of rounds of boosting\")\n",
    "plt.xlabel(\"#Trees\")\n",
    "plt.ylabel(\"Mean Accuracy\")\n",
    "plt.legend()\n",
    "plt.show()"
   ]
  },
  {
   "cell_type": "markdown",
   "id": "c891f124-ec32-455b-9552-00cc6ef683c1",
   "metadata": {},
   "source": [
    "It seems that these models do not generalize well with the second dataset dataset as compared to the first one, as the test accuracy is not strictly increasing, but actually decreases with further rounds of boosting."
   ]
  },
  {
   "cell_type": "markdown",
   "id": "1b8a0c28-8885-46d0-b935-e9b2c1554d9d",
   "metadata": {},
   "source": [
    "## Part (c)"
   ]
  },
  {
   "cell_type": "markdown",
   "id": "72a33938-ed1a-469d-9196-5b1ed309568c",
   "metadata": {},
   "source": [
    "In part a) we observe that the test accuracy keeps increasing as we increase the number of rounds of boosting,\n",
    "however in part b) the test accuracy actually decreases with further rounds of boosting (as noticed from n=300 to n=1000).\n",
    "\n",
    "Overfitting could be occuring in the second dataset when we use very flexible models.  \n",
    "As discussed in class, this may be because the second dataset has a small margin, and therefore might not generalize well."
   ]
  },
  {
   "cell_type": "code",
   "execution_count": null,
   "id": "bc04e5f5-49cc-4031-aefe-df2b7b303174",
   "metadata": {},
   "outputs": [],
   "source": []
  }
 ],
 "metadata": {
  "kernelspec": {
   "display_name": "Python 3 (ipykernel)",
   "language": "python",
   "name": "python3"
  },
  "language_info": {
   "codemirror_mode": {
    "name": "ipython",
    "version": 3
   },
   "file_extension": ".py",
   "mimetype": "text/x-python",
   "name": "python",
   "nbconvert_exporter": "python",
   "pygments_lexer": "ipython3",
   "version": "3.11.4"
  }
 },
 "nbformat": 4,
 "nbformat_minor": 5
}
